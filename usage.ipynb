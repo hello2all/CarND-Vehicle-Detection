{
 "cells": [
  {
   "cell_type": "markdown",
   "metadata": {},
   "source": [
    "# Average speed between to bus stops"
   ]
  },
  {
   "cell_type": "raw",
   "metadata": {},
   "source": [
    "This document describes how to use the average speed pickle file"
   ]
  },
  {
   "cell_type": "markdown",
   "metadata": {},
   "source": [
    "import pickle library"
   ]
  },
  {
   "cell_type": "code",
   "execution_count": 1,
   "metadata": {
    "collapsed": true
   },
   "outputs": [],
   "source": [
    "import pickle"
   ]
  },
  {
   "cell_type": "markdown",
   "metadata": {},
   "source": [
    "load pickled file"
   ]
  },
  {
   "cell_type": "code",
   "execution_count": 2,
   "metadata": {
    "collapsed": true
   },
   "outputs": [],
   "source": [
    "with open(\"mean_speed.pkl\", \"r\") as f:\n",
    "    mean_speed = pickle.load(f)"
   ]
  },
  {
   "cell_type": "markdown",
   "metadata": {},
   "source": [
    "- The mean_speed variable is a python dictionary variable with 2 key levels. \n",
    "\n",
    "- First being the stop code of the original stop, second being the destination stop. \n",
    "\n",
    "- There has to be real connection between these two, otherwise key error will occur.\n",
    "\n",
    "An example of accessing the value is given below"
   ]
  },
  {
   "cell_type": "code",
   "execution_count": 3,
   "metadata": {
    "collapsed": false
   },
   "outputs": [
    {
     "name": "stdout",
     "output_type": "stream",
     "text": [
      "Average speed between stop 52079 and 51099:\n",
      "28.2192692829 km/h\n"
     ]
    }
   ],
   "source": [
    "# average speed between stop code 52079 and 51099\n",
    "Origin = \"52079\"\n",
    "Destination = \"51099\"\n",
    "print \"Average speed between stop {} and {}:\".format(Origin, Destination)\n",
    "print \"{} km/h\".format(mean_speed[Origin][Destination])"
   ]
  },
  {
   "cell_type": "markdown",
   "metadata": {},
   "source": [
    "Method to enumerate all speed values:"
   ]
  },
  {
   "cell_type": "code",
   "execution_count": 4,
   "metadata": {
    "collapsed": false
   },
   "outputs": [
    {
     "name": "stdout",
     "output_type": "stream",
     "text": [
      "  Origin Destination  Mean speed\n",
      "0  16079       16069   18.261842\n",
      "1  14191       14201   22.406171\n",
      "2  55349       55339   22.830780\n",
      "3  22469       22189   11.139488\n",
      "4  22469        3223   34.699908\n"
     ]
    }
   ],
   "source": [
    "headers = [\"Origin\", \"Destination\", \"Mean speed\"]\n",
    "values = []\n",
    "for O in mean_speed:\n",
    "    for D in mean_speed[O]:\n",
    "        values.append([O , D, mean_speed[O][D]])\n",
    "\n",
    "import pandas as pd\n",
    "df = pd.DataFrame(values, columns=headers)\n",
    "print df.head()"
   ]
  },
  {
   "cell_type": "markdown",
   "metadata": {},
   "source": [
    "Basic statistics"
   ]
  },
  {
   "cell_type": "code",
   "execution_count": 17,
   "metadata": {
    "collapsed": false
   },
   "outputs": [
    {
     "name": "stdout",
     "output_type": "stream",
     "text": [
      "5696\n",
      "         Mean speed\n",
      "count   6504.000000\n",
      "mean      23.238985\n",
      "std      268.176990\n",
      "min        0.061738\n",
      "25%       14.039276\n",
      "50%       17.764781\n",
      "75%       22.434475\n",
      "max    21524.400000\n"
     ]
    }
   ],
   "source": [
    "df[\"Mean speed\"].describe()\n",
    "df = df.dropna()\n",
    "print df[\"Mean speed\"].idxmax()\n",
    "df = df.drop(df.index[5696])\n",
    "print df.describe()"
   ]
  },
  {
   "cell_type": "code",
   "execution_count": 23,
   "metadata": {
    "collapsed": false
   },
   "outputs": [
    {
     "data": {
      "text/html": [
       "<div>\n",
       "<table border=\"1\" class=\"dataframe\">\n",
       "  <thead>\n",
       "    <tr style=\"text-align: right;\">\n",
       "      <th></th>\n",
       "      <th>Mean speed</th>\n",
       "    </tr>\n",
       "  </thead>\n",
       "  <tbody>\n",
       "    <tr>\n",
       "      <th>count</th>\n",
       "      <td>6487.000000</td>\n",
       "    </tr>\n",
       "    <tr>\n",
       "      <th>mean</th>\n",
       "      <td>18.975199</td>\n",
       "    </tr>\n",
       "    <tr>\n",
       "      <th>std</th>\n",
       "      <td>7.381501</td>\n",
       "    </tr>\n",
       "    <tr>\n",
       "      <th>min</th>\n",
       "      <td>0.061738</td>\n",
       "    </tr>\n",
       "    <tr>\n",
       "      <th>25%</th>\n",
       "      <td>14.029966</td>\n",
       "    </tr>\n",
       "    <tr>\n",
       "      <th>50%</th>\n",
       "      <td>17.745610</td>\n",
       "    </tr>\n",
       "    <tr>\n",
       "      <th>75%</th>\n",
       "      <td>22.398241</td>\n",
       "    </tr>\n",
       "    <tr>\n",
       "      <th>max</th>\n",
       "      <td>79.847270</td>\n",
       "    </tr>\n",
       "  </tbody>\n",
       "</table>\n",
       "</div>"
      ],
      "text/plain": [
       "        Mean speed\n",
       "count  6487.000000\n",
       "mean     18.975199\n",
       "std       7.381501\n",
       "min       0.061738\n",
       "25%      14.029966\n",
       "50%      17.745610\n",
       "75%      22.398241\n",
       "max      79.847270"
      ]
     },
     "execution_count": 23,
     "metadata": {},
     "output_type": "execute_result"
    }
   ],
   "source": [
    "filtered = df[df[\"Mean speed\"]<80.]\n",
    "filtered.describe()"
   ]
  },
  {
   "cell_type": "code",
   "execution_count": 24,
   "metadata": {
    "collapsed": false
   },
   "outputs": [
    {
     "data": {
      "text/plain": [
       "3629"
      ]
     },
     "execution_count": 24,
     "metadata": {},
     "output_type": "execute_result"
    }
   ],
   "source": [
    "filtered[\"Mean speed\"].idxmin()"
   ]
  },
  {
   "cell_type": "code",
   "execution_count": 26,
   "metadata": {
    "collapsed": false
   },
   "outputs": [
    {
     "data": {
      "text/plain": [
       "Origin             47599\n",
       "Destination        47591\n",
       "Mean speed     0.0617377\n",
       "Name: 3629, dtype: object"
      ]
     },
     "execution_count": 26,
     "metadata": {},
     "output_type": "execute_result"
    }
   ],
   "source": [
    "filtered.loc[3629]"
   ]
  },
  {
   "cell_type": "code",
   "execution_count": 27,
   "metadata": {
    "collapsed": false
   },
   "outputs": [
    {
     "name": "stdout",
     "output_type": "stream",
     "text": [
      "Origin         6487\n",
      "Destination    6487\n",
      "Mean speed     6487\n",
      "dtype: int64\n",
      "Origin         6484\n",
      "Destination    6484\n",
      "Mean speed     6484\n",
      "dtype: int64\n"
     ]
    }
   ],
   "source": [
    "print filtered.count()\n",
    "filtered = filtered[filtered[\"Mean speed\"]> 1.]\n",
    "print filtered.count()"
   ]
  },
  {
   "cell_type": "code",
   "execution_count": 28,
   "metadata": {
    "collapsed": false
   },
   "outputs": [
    {
     "data": {
      "text/html": [
       "<div>\n",
       "<table border=\"1\" class=\"dataframe\">\n",
       "  <thead>\n",
       "    <tr style=\"text-align: right;\">\n",
       "      <th></th>\n",
       "      <th>Mean speed</th>\n",
       "    </tr>\n",
       "  </thead>\n",
       "  <tbody>\n",
       "    <tr>\n",
       "      <th>count</th>\n",
       "      <td>6484.000000</td>\n",
       "    </tr>\n",
       "    <tr>\n",
       "      <th>mean</th>\n",
       "      <td>18.983705</td>\n",
       "    </tr>\n",
       "    <tr>\n",
       "      <th>std</th>\n",
       "      <td>7.372600</td>\n",
       "    </tr>\n",
       "    <tr>\n",
       "      <th>min</th>\n",
       "      <td>1.587543</td>\n",
       "    </tr>\n",
       "    <tr>\n",
       "      <th>25%</th>\n",
       "      <td>14.033322</td>\n",
       "    </tr>\n",
       "    <tr>\n",
       "      <th>50%</th>\n",
       "      <td>17.748489</td>\n",
       "    </tr>\n",
       "    <tr>\n",
       "      <th>75%</th>\n",
       "      <td>22.399565</td>\n",
       "    </tr>\n",
       "    <tr>\n",
       "      <th>max</th>\n",
       "      <td>79.847270</td>\n",
       "    </tr>\n",
       "  </tbody>\n",
       "</table>\n",
       "</div>"
      ],
      "text/plain": [
       "        Mean speed\n",
       "count  6484.000000\n",
       "mean     18.983705\n",
       "std       7.372600\n",
       "min       1.587543\n",
       "25%      14.033322\n",
       "50%      17.748489\n",
       "75%      22.399565\n",
       "max      79.847270"
      ]
     },
     "execution_count": 28,
     "metadata": {},
     "output_type": "execute_result"
    }
   ],
   "source": [
    "filtered.describe()"
   ]
  },
  {
   "cell_type": "code",
   "execution_count": 31,
   "metadata": {
    "collapsed": false
   },
   "outputs": [
    {
     "data": {
      "text/plain": [
       "(array([  2.34000000e+02,   2.80200000e+03,   2.42100000e+03,\n",
       "          7.21000000e+02,   1.87000000e+02,   8.80000000e+01,\n",
       "          1.90000000e+01,   7.00000000e+00,   2.00000000e+00,\n",
       "          3.00000000e+00]),\n",
       " array([  1.5875431 ,   9.41351582,  17.23948855,  25.06546127,\n",
       "         32.891434  ,  40.71740672,  48.54337945,  56.36935217,\n",
       "         64.1953249 ,  72.02129762,  79.84727035]),\n",
       " <a list of 10 Patch objects>)"
      ]
     },
     "execution_count": 31,
     "metadata": {},
     "output_type": "execute_result"
    },
    {
     "data": {
      "image/png": "[encoded data removed]",
      "text/plain": [
       "<matplotlib.figure.Figure at 0x7febe097a510>"
      ]
     },
     "metadata": {},
     "output_type": "display_data"
    }
   ],
   "source": [
    "import matplotlib.pyplot as plt\n",
    "% matplotlib inline\n",
    "plt.hist(filtered[\"Mean speed\"])"
   ]
  }
 ],
 "metadata": {
  "anaconda-cloud": {},
  "kernelspec": {
   "display_name": "Python [default]",
   "language": "python",
   "name": "python2"
  },
  "language_info": {
   "codemirror_mode": {
    "name": "ipython",
    "version": 2
   },
   "file_extension": ".py",
   "mimetype": "text/x-python",
   "name": "python",
   "nbconvert_exporter": "python",
   "pygments_lexer": "ipython2",
   "version": "2.7.12"
  }
 },
 "nbformat": 4,
 "nbformat_minor": 1
}
